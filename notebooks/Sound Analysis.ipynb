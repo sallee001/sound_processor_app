{
 "cells": [
  {
   "cell_type": "code",
   "execution_count": 4,
   "metadata": {
    "collapsed": false
   },
   "outputs": [],
   "source": [
    "import librosa\n",
    "import numpy as np\n",
    "\n",
    "import sklearn\n",
    "import sklearn.cluster\n",
    "import sklearn.pipeline\n",
    "\n",
    "import matplotlib.pyplot as plt\n",
    "import seaborn\n",
    "seaborn.set(style='ticks')\n",
    "%matplotlib inline"
   ]
  },
  {
   "cell_type": "code",
   "execution_count": 5,
   "metadata": {
    "collapsed": true
   },
   "outputs": [],
   "source": [
    "# We'll build the feature pipeline object here\n",
    "\n",
    "# First stage is a mel-frequency specrogram of bounded range\n",
    "MelSpec = librosa.util.FeatureExtractor(librosa.feature.melspectrogram, \n",
    "                                        n_fft=2048,\n",
    "                                        n_mels=128,\n",
    "                                        fmax=librosa.midi_to_hz(116), \n",
    "                                        fmin=librosa.midi_to_hz(24))\n",
    "\n",
    "# Second stage is log-amplitude; power is relative to peak in the signal\n",
    "LogAmp = librosa.util.FeatureExtractor(librosa.logamplitude, \n",
    "                                       ref_power=np.max)\n",
    "\n",
    "\n",
    "# Third stage transposes the data so that frames become samples\n",
    "Transpose = librosa.util.FeatureExtractor(np.transpose)\n",
    "\n",
    "# Last stage stacks all samples together into one matrix for training\n",
    "Stack = librosa.util.FeatureExtractor(np.vstack, iterate=False)"
   ]
  },
  {
   "cell_type": "code",
   "execution_count": 6,
   "metadata": {
    "collapsed": true
   },
   "outputs": [],
   "source": [
    "# Now, build a learning object.  We'll use mini-batch k-means with default parameters.\n",
    "C = sklearn.cluster.MiniBatchKMeans()"
   ]
  },
  {
   "cell_type": "code",
   "execution_count": 7,
   "metadata": {
    "collapsed": true
   },
   "outputs": [],
   "source": [
    "# Now, chain them all together into a pipeline\n",
    "ClusterPipe = sklearn.pipeline.Pipeline([('Mel spectrogram', MelSpec), \n",
    "                                         ('Log amplitude', LogAmp),\n",
    "                                         ('Transpose', Transpose),\n",
    "                                         ('Stack', Stack),\n",
    "                                         ('Cluster', C)])"
   ]
  },
  {
   "cell_type": "code",
   "execution_count": 9,
   "metadata": {
    "collapsed": false
   },
   "outputs": [],
   "source": [
    "# Let's build a model using just the first 20 seconds of the example track\n",
    "\n",
    "y_train, sr = librosa.load('./203726__genelythgow__4-bell-piano-hhits.wav', duration=4, offset=0.0)"
   ]
  },
  {
   "cell_type": "code",
   "execution_count": 10,
   "metadata": {
    "collapsed": false
   },
   "outputs": [
    {
     "data": {
      "text/plain": [
       "Pipeline(steps=[('Mel spectrogram', FeatureExtractor(fmax=array([ 6644.87516]), fmin=array([ 32.7032]),\n",
       "         function=<function melspectrogram at 0x7f6a5e9420c8>, n_fft=2048,\n",
       "         n_mels=128, target=None)), ('Log amplitude', FeatureExtractor(function=<function logamplitude at 0x7f6a5e9305f0>,\n",
       "       ...sters=8,\n",
       "        n_init=3, random_state=None, reassignment_ratio=0.01, tol=0.0,\n",
       "        verbose=0))])"
      ]
     },
     "execution_count": 10,
     "metadata": {},
     "output_type": "execute_result"
    }
   ],
   "source": [
    "# Fit the model.  \n",
    "# [y_train] will be passed through the entire feature pipeline before k-means is trained\n",
    "ClusterPipe.fit([y_train])"
   ]
  },
  {
   "cell_type": "code",
   "execution_count": 11,
   "metadata": {
    "collapsed": false
   },
   "outputs": [
    {
     "data": {
      "image/png": "[encoded data removed]",
      "text/plain": [
       "<matplotlib.figure.Figure at 0x7f6a4b3335d0>"
      ]
     },
     "metadata": {},
     "output_type": "display_data"
    }
   ],
   "source": [
    "# We can plot the resulting centroids\n",
    "plt.figure(figsize=(4, 4))\n",
    "\n",
    "librosa.display.specshow(C.cluster_centers_.T)\n",
    "\n",
    "plt.xticks(range(len(C.cluster_centers_)))\n",
    "plt.xlabel('Cluster #')\n",
    "\n",
    "plt.ylabel('Mel frequency')\n",
    "\n",
    "plt.colorbar(format='%+02.0f dB')\n",
    "\n",
    "plt.tight_layout()"
   ]
  },
  {
   "cell_type": "code",
   "execution_count": 12,
   "metadata": {
    "collapsed": false
   },
   "outputs": [
    {
     "data": {
      "text/plain": [
       "array([2, 2, 2, 3, 4, 4, 4, 4, 4, 4, 3, 2, 2, 3, 4, 4, 4, 4, 4, 6, 6, 3, 2,\n",
       "       2, 3, 4, 4, 4, 6, 6, 6, 6, 2, 2, 3, 3, 4, 6, 6, 6, 6, 6, 6, 3, 3, 3,\n",
       "       6, 6, 6, 6, 7, 7, 7, 6, 3, 3, 3, 6, 6, 6, 7, 7, 7, 1, 3, 3, 3, 0, 6,\n",
       "       6, 7, 7, 7, 7, 7, 0, 0, 0, 7, 7, 1, 1, 1, 1, 1, 7, 0, 0, 0, 0, 7, 7,\n",
       "       7, 7, 7, 7, 7, 0, 0, 0, 7, 1, 1, 1, 1, 1, 1, 7, 0, 0, 1, 1, 1, 1, 1,\n",
       "       1, 1, 1, 1, 0, 0, 1, 1, 1, 1, 1, 5, 5, 5, 0, 0, 1, 1, 1, 1, 5, 5, 5,\n",
       "       5, 5, 1, 1, 5, 5, 5, 5, 5, 5, 5, 5, 5, 1, 1, 1, 5, 5, 5, 5, 5, 5, 5,\n",
       "       5, 1, 1, 5, 5, 5, 5, 5, 5, 5, 0, 3], dtype=int32)"
      ]
     },
     "execution_count": 12,
     "metadata": {},
     "output_type": "execute_result"
    }
   ],
   "source": [
    "# Now we can make predictions, in this case, frame-level cluster identifiers.\n",
    "# Let's run it on the training data, just to be sure it worked.\n",
    "ClusterPipe.predict([y_train])"
   ]
  },
  {
   "cell_type": "code",
   "execution_count": 14,
   "metadata": {
    "collapsed": false
   },
   "outputs": [],
   "source": [
    "# Now we can test it on a different portion of the track: [20s, 25s]\n",
    "\n",
    "y_test, sr = librosa.load('./203726__genelythgow__4-bell-piano-hhits.wav', duration=5, offset=4.0)"
   ]
  },
  {
   "cell_type": "code",
   "execution_count": 15,
   "metadata": {
    "collapsed": false
   },
   "outputs": [
    {
     "data": {
      "text/plain": [
       "array([2, 2, 2, 2, 2, 2, 2, 2, 2, 2, 2, 2, 2, 2, 2, 2, 3, 3, 3, 3, 3, 2, 2,\n",
       "       2, 2, 2, 2, 3, 3, 3, 3, 3, 2, 2, 2, 2, 2, 2, 2, 3, 3, 3, 3, 2, 2, 2,\n",
       "       3, 3, 3, 3, 3, 3, 3, 3, 2, 2, 2, 2, 3, 3, 3, 3, 3, 0, 2, 2, 2, 2, 3,\n",
       "       3, 3, 3, 0, 0, 0, 3, 3, 3, 3, 3, 3, 0, 0, 0, 0, 0, 3, 3, 3, 3, 0, 0,\n",
       "       0, 0, 0, 0, 3, 3, 3, 3, 0, 0, 0, 0, 0, 0, 0, 0, 0, 0, 0, 0, 0, 0, 0,\n",
       "       0, 0, 0, 0, 0, 0, 0, 0, 0, 0, 0, 0, 0, 0, 0, 0, 0, 0, 0, 0, 0, 0, 0,\n",
       "       0, 0, 0, 0, 0, 0, 0, 0, 5, 0, 0, 0, 0, 0, 0, 0, 0, 0, 0, 5, 5, 5, 5,\n",
       "       0, 0, 0, 0, 0, 0, 0, 0, 5, 5, 0, 2, 2, 2, 2, 3, 3, 3, 3, 3, 3, 3, 2,\n",
       "       2, 3, 3, 3, 3, 3, 3, 0, 0, 3, 2, 2, 2, 3, 3, 3, 3, 3, 3, 4, 2, 2, 2,\n",
       "       3, 3, 3, 3, 3, 0, 0, 3, 2], dtype=int32)"
      ]
     },
     "execution_count": 15,
     "metadata": {},
     "output_type": "execute_result"
    }
   ],
   "source": [
    "ClusterPipe.predict([y_test])"
   ]
  },
  {
   "cell_type": "code",
   "execution_count": null,
   "metadata": {
    "collapsed": true
   },
   "outputs": [],
   "source": []
  }
 ],
 "metadata": {
  "kernelspec": {
   "display_name": "Python 2",
   "language": "python",
   "name": "python2"
  },
  "language_info": {
   "codemirror_mode": {
    "name": "ipython",
    "version": 2
   },
   "file_extension": ".py",
   "mimetype": "text/x-python",
   "name": "python",
   "nbconvert_exporter": "python",
   "pygments_lexer": "ipython2",
   "version": "2.7.10"
  }
 },
 "nbformat": 4,
 "nbformat_minor": 0
}
